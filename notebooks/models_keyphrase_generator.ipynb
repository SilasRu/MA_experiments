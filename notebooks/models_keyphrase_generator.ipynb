{
 "cells": [
  {
   "cell_type": "code",
   "execution_count": 2,
   "metadata": {},
   "outputs": [],
   "source": [
    "import sys\n",
    "import os\n",
    "sys.path.insert(0, '/Users/silas.rudolf/projects/School/MA/experiments/models/keyphrase_gen')\n",
    "from keyphrase_generator import KeyphraseGenerator\n",
    "checkpoint_path = '/Users/silas.rudolf/projects/School/MA/experiments/data/checkpoints'\n",
    "\n",
    "generator_cnn_14000 = KeyphraseGenerator(os.path.join(checkpoint_path, 'checkpoint-CNN-keyphrase-14000'))\n",
    "generator_cnn_35000 = KeyphraseGenerator(os.path.join(checkpoint_path, 'checkpoint-CNN-keyphrase-35000'))\n",
    "generator_xsum_10000 = KeyphraseGenerator(os.path.join(checkpoint_path, 'checkpoint-keyphrase-10000'))\n",
    "generator_xsum_32000 = KeyphraseGenerator(os.path.join(checkpoint_path, 'checkpoint-keyphrase-32000'))"
   ]
  },
  {
   "cell_type": "code",
   "execution_count": 29,
   "metadata": {},
   "outputs": [],
   "source": [
    "transcript_path = '/Users/silas.rudolf/projects/School/MA/experiments/data/nexoya daily standup 2022-03-17.json'\n",
    "chunks = generator_cnn_14000.preprocess_and_chunk_transcript(transcript_path)"
   ]
  },
  {
   "cell_type": "code",
   "execution_count": 12,
   "metadata": {},
   "outputs": [],
   "source": [
    "import pandas as pd\n",
    "df = pd.read_csv('/Users/silas.rudolf/projects/School/MA/experiments/data/keyphrase-eval/reference_QMSum.csv')\n",
    "df = pd.read_csv('/Users/silas.rudolf/projects/School/MA/experiments/data/keyword-eval/reference.csv')"
   ]
  },
  {
   "cell_type": "code",
   "execution_count": 29,
   "metadata": {},
   "outputs": [],
   "source": [
    "chunked_text = generator_cnn_14000._chunk_text(df['text'][42])\n",
    "preds = generator_cnn_14000.extract_keyphrases(chunked_text)"
   ]
  },
  {
   "cell_type": "code",
   "execution_count": 15,
   "metadata": {},
   "outputs": [],
   "source": [
    "utterance = '''Philipp:  Okay. It's now being recorded. So then let's get started  and start with Ivan.  Ivan: Yes, good morning everybody.  So, yesterday,  I have started working on the  implementation.  Nothing started, but continued working on implementation on gauge icon.  I had small discussion with Philip about some obstacles there.  I would need some input from you Marco, or you Flavia.  I don't know if you  guys, catch up the ticket.  And  after that,  we had like a pre-planning session  life  for the first time ever.  It was awesome. And yeah,  so today  I'm going to continue with the gauge icon and I have some ship  shipment to  probably do that in the second part of the day.  That's it.  Philipp: Awesome.  Yep. And so that it's in there and mentioned you  guys Marco and Flavia on Gitlab  and in the thicket regarding the go check. Maybe Ivan can you shortly share  the link in development Channel  or so?  Just to keep these guys in the loop,  then we will continue with Djuradj.'''\n",
    "\n",
    "gen1 = generator_cnn_14000.extract_keyphrases([utterance])\n",
    "gen2 = generator_cnn_35000.extract_keyphrases([utterance])\n",
    "gen3 = generator_xsum_10000.extract_keyphrases([utterance])\n",
    "gen4 = generator_xsum_32000.extract_keyphrases([utterance])"
   ]
  },
  {
   "cell_type": "code",
   "execution_count": 16,
   "metadata": {},
   "outputs": [
    {
     "data": {
      "text/plain": [
       "'Ivan started working on the implementation of the gauge icon yesterday. He will continue to do that today. Marco and Flavia will be consulted on the go check. Ivan will share the link in development channel.'"
      ]
     },
     "execution_count": 16,
     "metadata": {},
     "output_type": "execute_result"
    }
   ],
   "source": [
    "''.join(gen1[0])"
   ]
  },
  {
   "cell_type": "code",
   "execution_count": 17,
   "metadata": {},
   "outputs": [
    {
     "data": {
      "text/plain": [
       "'Philipp, Ivan, Marco and Flavia will catch up on the meeting. Ivan will continue working on the implementation of gauge icon and has some shipment to ship. '"
      ]
     },
     "execution_count": 17,
     "metadata": {},
     "output_type": "execute_result"
    }
   ],
   "source": [
    "''.join(gen2[0])"
   ]
  },
  {
   "cell_type": "code",
   "execution_count": 18,
   "metadata": {},
   "outputs": [
    {
     "data": {
      "text/plain": [
       "'Ivan has started working on the implementation of gauge icon yesterday. He needs some input from Marco and Flavia. Philipp will share the link in development Channel.'"
      ]
     },
     "execution_count": 18,
     "metadata": {},
     "output_type": "execute_result"
    }
   ],
   "source": [
    "''.join(gen3[0])"
   ]
  },
  {
   "cell_type": "code",
   "execution_count": 19,
   "metadata": {},
   "outputs": [
    {
     "data": {
      "text/plain": [
       "'Ivan started working on the implementation of gauge icon yesterday and after that he had a pre-planning session with Philip and had some input from Marco and Flavia. Philipp will share the link in development Channel or so and then we will continue with Djuradj.'"
      ]
     },
     "execution_count": 19,
     "metadata": {},
     "output_type": "execute_result"
    }
   ],
   "source": [
    "''.join(gen4[0])"
   ]
  }
 ],
 "metadata": {
  "kernelspec": {
   "display_name": "locator_env",
   "language": "python",
   "name": "locator_env"
  },
  "language_info": {
   "codemirror_mode": {
    "name": "ipython",
    "version": 3
   },
   "file_extension": ".py",
   "mimetype": "text/x-python",
   "name": "python",
   "nbconvert_exporter": "python",
   "pygments_lexer": "ipython3",
   "version": "3.7.6"
  },
  "orig_nbformat": 4,
  "vscode": {
   "interpreter": {
    "hash": "1ee38ef4a5a9feb55287fd749643f13d043cb0a7addaab2a9c224cbe137c0062"
   }
  }
 },
 "nbformat": 4,
 "nbformat_minor": 2
}
