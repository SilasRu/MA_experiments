{
 "cells": [
  {
   "cell_type": "code",
   "execution_count": 23,
   "metadata": {},
   "outputs": [],
   "source": [
    "from rouge import Rouge\n",
    "from rouge.rouge_score import *\n",
    "import nltk\n",
    "import ssl\n",
    "\n",
    "def read_list_asline(path):\n",
    "    data = []\n",
    "    with open(path,'r',encoding='utf-8')  as file:\n",
    "        for line in file:\n",
    "            data.append(line.strip())\n",
    "    return data\n",
    "\n",
    "\n",
    "def download_nltk():\n",
    "    try:\n",
    "        _create_unverified_https_context = ssl._create_unverified_context\n",
    "    except AttributeError:\n",
    "        pass\n",
    "    else:\n",
    "        ssl._create_default_https_context = _create_unverified_https_context\n",
    "\n",
    "    nltk.download(\"punkt\")\n",
    "\n",
    "\n",
    "def _text_to_ngrams(text, n=1):\n",
    "    ngrams = list(nltk.ngrams(nltk.word_tokenize(text), n))\n",
    "    return Ngrams(ngrams)\n",
    "\n",
    "def _get_rouge_from_ngram(reference_ngrams: Ngrams, evaluated_ngrams: Ngrams)-> dict:\n",
    "    reference_count = len(reference_ngrams)\n",
    "    evaluated_count = len(evaluated_ngrams)\n",
    "\n",
    "    # Gets the overlapping ngrams between evaluated and reference\n",
    "    overlapping_ngrams = evaluated_ngrams.intersection(reference_ngrams)\n",
    "    overlapping_count = len(overlapping_ngrams)\n",
    "    return f_r_p_rouge_n(evaluated_count, reference_count, overlapping_count)\n",
    "\n",
    "download_nltk()"
   ]
  },
  {
   "cell_type": "code",
   "execution_count": 25,
   "metadata": {},
   "outputs": [],
   "source": [
    "data = read_list_asline('/Users/silas.rudolf/projects/School/MA/experiments/data/stage_1/test.source')\n",
    "labels = read_list_asline('/Users/silas.rudolf/projects/School/MA/experiments/data/stage_1/test_duplicated.target')"
   ]
  },
  {
   "cell_type": "code",
   "execution_count": 30,
   "metadata": {},
   "outputs": [],
   "source": [
    "MAX_LENGTH = 10\n",
    "\n",
    "# This function is faster than seg_based_on_rouge because it uses the ngrams to computer rouge rather than text.\n",
    "def fast_rouge(sou, tar, name=None, verbose=False):\n",
    "    cur_new = ''\n",
    "    cur_ngram = Ngrams()\n",
    "    best_score = 0\n",
    "    best_sents = []\n",
    "\n",
    "    # use ngram to represent each text\n",
    "    sou = _text_to_ngrams(sou)\n",
    "    seg = [(x, _text_to_ngrams(x), i) for i, x in enumerate(nltk.sent_tokenize(tar))]\n",
    "\n",
    "    tot_len = len(seg)\n",
    "    for i in range(min(MAX_LENGTH, tot_len)):\n",
    "        scores = [(x, _get_rouge_from_ngram(cur_ngram.union(seg_ngram), sou), i) for x, seg_ngram, i in seg]\n",
    "        best_seg = max(scores, key=lambda x: x[1]['f'])\n",
    "        seg = [x for x in seg if x[2] != best_seg[2]]  # remove dup\n",
    "        cur_new += ' ' + best_seg[0]\n",
    "        cur_ngram = _text_to_ngrams(cur_new)\n",
    "        cur_score = _get_rouge_from_ngram(cur_ngram, sou)['f']\n",
    "        if cur_score > best_score:\n",
    "            best_score = cur_score\n",
    "            best_sents.append(best_seg)\n",
    "        else:\n",
    "            break\n",
    "\n",
    "    if verbose:\n",
    "        print(\"id:\", name, \"input/output:\", tot_len, len(best_sents), \"best:\", best_score)\n",
    "    best_string = list(set((x[0], x[2]) for x in best_sents))\n",
    "    best_string.sort(key=lambda x: x[1])\n",
    "    best_string = ' '.join([x[0] for x in best_string])\n",
    "\n",
    "    return best_sents, best_string"
   ]
  },
  {
   "cell_type": "code",
   "execution_count": 28,
   "metadata": {},
   "outputs": [
    {
     "data": {
      "text/plain": [
       "<rouge.rouge_score.Ngrams at 0x7ff74dbe6f10>"
      ]
     },
     "execution_count": 28,
     "metadata": {},
     "output_type": "execute_result"
    }
   ],
   "source": []
  },
  {
   "cell_type": "code",
   "execution_count": 29,
   "metadata": {},
   "outputs": [
    {
     "data": {
      "text/plain": [
       "[('This meeting was the eleventh evidence session on the Children Abolition of Defense of Reasonable Publishment Wales Bill.',\n",
       "  <rouge.rouge_score.Ngrams at 0x7ff74fd13a50>,\n",
       "  0),\n",
       " ('Barry Hughes was there to answer questions related to the Bill.',\n",
       "  <rouge.rouge_score.Ngrams at 0x7ff74fd13050>,\n",
       "  1),\n",
       " ('Six main topics that had been discussed or explained.',\n",
       "  <rouge.rouge_score.Ngrams at 0x7ff74dc26590>,\n",
       "  2),\n",
       " ('The first one was how the Bill protected the children in terms of prosecutions.',\n",
       "  <rouge.rouge_score.Ngrams at 0x7ff74dc268d0>,\n",
       "  3),\n",
       " (\"The second part explained the divergence between regions and the Bill's implication on England.\",\n",
       "  <rouge.rouge_score.Ngrams at 0x7ff74dc26e10>,\n",
       "  4),\n",
       " ('The third part explained how the law was implemented, and the fourth talked about prosecutions and potential alternatives.',\n",
       "  <rouge.rouge_score.Ngrams at 0x7ff74dc26d90>,\n",
       "  5),\n",
       " ('Barry Hughes then further explained our-of-court disposals and responded to a specific infrastructure for these cases.',\n",
       "  <rouge.rouge_score.Ngrams at 0x7ff74dbe91d0>,\n",
       "  6),\n",
       " ('In the last part, the meeting turned to discuss a number of unintended consequences related to the Bill.',\n",
       "  <rouge.rouge_score.Ngrams at 0x7ff74fd0c710>,\n",
       "  7)]"
      ]
     },
     "execution_count": 29,
     "metadata": {},
     "output_type": "execute_result"
    }
   ],
   "source": [
    "[(x, _text_to_ngrams(x), i) for i, x in enumerate(nltk.sent_tokenize(labels[0]))]"
   ]
  },
  {
   "cell_type": "code",
   "execution_count": null,
   "metadata": {},
   "outputs": [],
   "source": []
  }
 ],
 "metadata": {
  "interpreter": {
   "hash": "9d10268de14796ab72802f3d5204661607cb47f5caae6ef1d9733064b38c2714"
  },
  "kernelspec": {
   "display_name": "Python 3.7.6 ('locator_env': venv)",
   "language": "python",
   "name": "python3"
  },
  "language_info": {
   "codemirror_mode": {
    "name": "ipython",
    "version": 3
   },
   "file_extension": ".py",
   "mimetype": "text/x-python",
   "name": "python",
   "nbconvert_exporter": "python",
   "pygments_lexer": "ipython3",
   "version": "3.7.6"
  },
  "orig_nbformat": 4
 },
 "nbformat": 4,
 "nbformat_minor": 2
}
