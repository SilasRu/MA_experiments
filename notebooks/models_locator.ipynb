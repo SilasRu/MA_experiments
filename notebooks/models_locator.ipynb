{
 "cells": [
  {
   "cell_type": "code",
   "execution_count": 1,
   "metadata": {},
   "outputs": [],
   "source": [
    "import sys\n",
    "import os\n",
    "sys.path.insert(0, '/Users/silas.rudolf/projects/School/MA/experiments/models/')\n",
    "BILSTM_DIR='/Users/silas.rudolf/projects/School/MA/experiments/data/BiLSTM_PN_BERT'\n",
    "DEEPLSTM_DIR='/Users/silas.rudolf/projects/School/MA/experiments/data/DeepLSTM_PN_BERT_old'\n"
   ]
  },
  {
   "cell_type": "code",
   "execution_count": 3,
   "metadata": {},
   "outputs": [
    {
     "name": "stderr",
     "output_type": "stream",
     "text": [
      "/Users/silas.rudolf/projects/School/MA/experiments/notebooks/locator_env/lib/python3.7/site-packages/tqdm/auto.py:22: TqdmWarning: IProgress not found. Please update jupyter and ipywidgets. See https://ipywidgets.readthedocs.io/en/stable/user_install.html\n",
      "  from .autonotebook import tqdm as notebook_tqdm\n"
     ]
    }
   ],
   "source": [
    "from pointer_net.extractor import Extractor\n",
    "from pointer_net.utils import tokenize\n",
    "import json\n",
    "import torch"
   ]
  },
  {
   "cell_type": "code",
   "execution_count": 5,
   "metadata": {},
   "outputs": [],
   "source": [
    "checkpoint_bi = torch.load(os.path.join(BILSTM_DIR, 'ckpt/ckpt-2.208670-39000'), map_location=torch.device('cpu'))['state_dict']\n",
    "checkpoint_deep = torch.load(os.path.join(DEEPLSTM_DIR, 'ckpt/ckpt-2.309359-12000'), map_location=torch.device('cpu'))['state_dict']"
   ]
  },
  {
   "cell_type": "code",
   "execution_count": 6,
   "metadata": {},
   "outputs": [],
   "source": [
    "extractor_bi = Extractor(BILSTM_DIR, checkpoint_bi, 'BERT', 3, False)\n",
    "extractor_deep = Extractor(DEEPLSTM_DIR, checkpoint_deep, 'BERT', 3, False)"
   ]
  },
  {
   "cell_type": "code",
   "execution_count": 10,
   "metadata": {},
   "outputs": [],
   "source": [
    "TEST_FILE = '/Users/silas.rudolf/projects/School/MA/experiments/data/CNNDM/test/120.json'\n",
    "with open(TEST_FILE, \"r\") as f:\n",
    "    test = json.load(f)\n",
    "article = tokenize(None, test['article'])\n"
   ]
  },
  {
   "cell_type": "code",
   "execution_count": 11,
   "metadata": {},
   "outputs": [],
   "source": [
    "ext_idx_bi = extractor_bi(article)\n",
    "ext_idx_deep = extractor_deep(article)"
   ]
  },
  {
   "cell_type": "code",
   "execution_count": 12,
   "metadata": {},
   "outputs": [
    {
     "name": "stdout",
     "output_type": "stream",
     "text": [
      "[1, 0, 6]\n",
      "[1, 0, 6]\n",
      "[1, 4]\n"
     ]
    }
   ],
   "source": [
    "print(ext_idx_bi)\n",
    "print(ext_idx_deep)\n",
    "print(test['label'])"
   ]
  },
  {
   "cell_type": "markdown",
   "metadata": {},
   "source": []
  }
 ],
 "metadata": {
  "kernelspec": {
   "display_name": "locator_env",
   "language": "python",
   "name": "locator_env"
  },
  "language_info": {
   "codemirror_mode": {
    "name": "ipython",
    "version": 3
   },
   "file_extension": ".py",
   "mimetype": "text/x-python",
   "name": "python",
   "nbconvert_exporter": "python",
   "pygments_lexer": "ipython3",
   "version": "3.7.6"
  },
  "orig_nbformat": 4
 },
 "nbformat": 4,
 "nbformat_minor": 2
}
