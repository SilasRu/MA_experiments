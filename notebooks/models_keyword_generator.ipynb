{
 "cells": [
  {
   "cell_type": "code",
   "execution_count": 1,
   "metadata": {},
   "outputs": [],
   "source": [
    "import sys\n",
    "sys.path.insert(0, '/Users/silas.rudolf/projects/School/MA/experiments/models/keyword_gen')\n",
    "\n",
    "import json\n",
    "import numpy as np\n",
    "import pandas as pd\n",
    "import keyword_generator as kwg\n",
    "\n",
    "transcript_path = '/Users/silas.rudolf/projects/School/MA/experiments/data/nexoya daily standup 2022-03-17.json'\n",
    "kw = kwg.KeywordGenerator()"
   ]
  },
  {
   "cell_type": "code",
   "execution_count": 2,
   "metadata": {},
   "outputs": [],
   "source": [
    "batched_transcript = kw.preprocess_and_chunk_transcript(transcript_path)"
   ]
  },
  {
   "cell_type": "code",
   "execution_count": 3,
   "metadata": {},
   "outputs": [
    {
     "name": "stderr",
     "output_type": "stream",
     "text": [
      "2022-06-28 11:53:10 INFO     Load pretrained SentenceTransformer: all-MiniLM-L6-v2\n",
      "2022-06-28 11:53:17 INFO     Use pytorch device: cpu\n"
     ]
    }
   ],
   "source": [
    "attention_kwg = kwg.Attention(model_path='bert-base-uncased')\n",
    "bert_kwg = kwg.KeyBert()\n",
    "textrank_kwg = kwg.TextRank()\n",
    "topicrank_kwg = kwg.TopicRank()\n",
    "positionrank_kwg = kwg.PositionRank()\n",
    "rake_kwg = kwg.RakeNltk()\n",
    "yake_kwg = kwg.Yake()\n",
    "frake_kwg = kwg.Frake()"
   ]
  },
  {
   "cell_type": "code",
   "execution_count": 23,
   "metadata": {},
   "outputs": [],
   "source": [
    "transcript_keywords = {}\n",
    "\n",
    "for i,utterance in enumerate(batched_transcript):\n",
    "    kws = {}\n",
    "    kws.update(attention_kwg.extract_keywords(utterance, remove_pers=True, attention_type='attentions')) \n",
    "    kws.update(bert_kwg.extract_keywords(utterance))\n",
    "    kws.update(textrank_kwg.extract_keywords(utterance))\n",
    "    kws.update(topicrank_kwg.extract_keywords(utterance))\n",
    "    kws.update(positionrank_kwg.extract_keywords(utterance))\n",
    "    kws.update(rake_kwg.extract_keywords(utterance))\n",
    "    kws.update(yake_kwg.extract_keywords(utterance))\n",
    "    kws.update(frake_kwg.extract_keywords(utterance))\n",
    "\n",
    "    transcript_keywords[f'frame_{i}'] = kws"
   ]
  },
  {
   "cell_type": "code",
   "execution_count": 27,
   "metadata": {},
   "outputs": [],
   "source": [
    "df = pd.DataFrame(transcript_keywords)\n",
    "df.to_json('keywords.json')\n",
    "# for col in df.columns:\n",
    "#     print(col)\n",
    "#     print(df[col].values)"
   ]
  }
 ],
 "metadata": {
  "interpreter": {
   "hash": "9d10268de14796ab72802f3d5204661607cb47f5caae6ef1d9733064b38c2714"
  },
  "kernelspec": {
   "display_name": "Python 3.7.6 ('locator_env': venv)",
   "language": "python",
   "name": "python3"
  },
  "language_info": {
   "codemirror_mode": {
    "name": "ipython",
    "version": 3
   },
   "file_extension": ".py",
   "mimetype": "text/x-python",
   "name": "python",
   "nbconvert_exporter": "python",
   "pygments_lexer": "ipython3",
   "version": "3.7.6"
  },
  "orig_nbformat": 4
 },
 "nbformat": 4,
 "nbformat_minor": 2
}
