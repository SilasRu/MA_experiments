{
 "cells": [
  {
   "cell_type": "code",
   "execution_count": 1,
   "metadata": {},
   "outputs": [
    {
     "name": "stderr",
     "output_type": "stream",
     "text": [
      "2022-06-27 12:45:33 INFO     'pattern' package not found; tag filters are not available for English\n",
      "[nltk_data] Downloading package stopwords to\n",
      "[nltk_data]     /Users/silas.rudolf/nltk_data...\n",
      "[nltk_data]   Package stopwords is already up-to-date!\n"
     ]
    }
   ],
   "source": [
    "import sys\n",
    "sys.path.insert(0, '/Users/silas.rudolf/projects/School/MA/experiments/models/keyword_gen')\n",
    "\n",
    "import json\n",
    "import numpy as np\n",
    "import pandas as pd\n",
    "import keyword_generator as kwg\n",
    "\n",
    "transcript_path = '/Users/silas.rudolf/projects/School/MA/experiments/data/nexoya daily standup 2022-03-17.json'\n",
    "kw = kwg.KeywordGenerator()"
   ]
  },
  {
   "cell_type": "code",
   "execution_count": 2,
   "metadata": {},
   "outputs": [],
   "source": [
    "batched_transcript = kw.preprocess_and_chunk_transcript(transcript_path)"
   ]
  },
  {
   "cell_type": "code",
   "execution_count": 2,
   "metadata": {},
   "outputs": [
    {
     "name": "stderr",
     "output_type": "stream",
     "text": [
      "2022-06-27 12:46:32 INFO     Load pretrained SentenceTransformer: all-MiniLM-L6-v2\n",
      "2022-06-27 12:46:39 INFO     Use pytorch device: cpu\n"
     ]
    }
   ],
   "source": [
    "attention_kwg = kwg.Attention(model_path='bert-base-uncased')\n",
    "bert_kwg = kwg.KeyBert()\n",
    "textrank_kwg = kwg.TextRank()\n",
    "topicrank_kwg = kwg.TopicRank()\n",
    "positionrank_kwg = kwg.PositionRank()\n",
    "rake_kwg = kwg.RakeNltk()\n",
    "yake_kwg = kwg.Yake()\n",
    "frake_kwg = kwg.Frake()"
   ]
  },
  {
   "cell_type": "code",
   "execution_count": 13,
   "metadata": {},
   "outputs": [],
   "source": [
    "utterance = '''Philipp:  Okay. It's now being recorded. So then let's get started  and start with Ivan.  Ivan: Yes, good morning everybody.  So, yesterday,  I have started working on the  implementation.  Nothing started, but continued working on implementation on gauge icon.  I had small discussion with Philip about some obstacles there.  I would need some input from you Marco, or you Flavia.  I don't know if you  guys, catch up the ticket.  And  after that,  we had like a pre-planning session  life  for the first time ever.  It was awesome. And yeah,  so today  I'm going to continue with the gauge icon and I have some ship  shipment to  probably do that in the second part of the day.  That's it.  Philipp: Awesome.  Yep. And so that it's in there and mentioned you  guys Marco and Flavia on Gitlab  and in the thicket regarding the go check. Maybe Ivan can you shortly share  the link in development Channel  or so?  Just to keep these guys in the loop,  then we will continue with Djuradj.'''\n",
    "kws = {}\n",
    "kws.update(attention_kwg.extract_keywords(utterance, remove_pers=True)) \n",
    "kws.update(bert_kwg.extract_keywords(utterance))\n",
    "kws.update(textrank_kwg.extract_keywords(utterance))\n",
    "kws.update(topicrank_kwg.extract_keywords(utterance))\n",
    "kws.update(positionrank_kwg.extract_keywords(utterance))\n",
    "kws.update(rake_kwg.extract_keywords(utterance))\n",
    "kws.update(yake_kwg.extract_keywords(utterance))\n",
    "kws.update(frake_kwg.extract_keywords(utterance))"
   ]
  },
  {
   "cell_type": "code",
   "execution_count": 14,
   "metadata": {},
   "outputs": [
    {
     "data": {
      "text/html": [
       "<div>\n",
       "<style scoped>\n",
       "    .dataframe tbody tr th:only-of-type {\n",
       "        vertical-align: middle;\n",
       "    }\n",
       "\n",
       "    .dataframe tbody tr th {\n",
       "        vertical-align: top;\n",
       "    }\n",
       "\n",
       "    .dataframe thead th {\n",
       "        text-align: right;\n",
       "    }\n",
       "</style>\n",
       "<table border=\"1\" class=\"dataframe\">\n",
       "  <thead>\n",
       "    <tr style=\"text-align: right;\">\n",
       "      <th></th>\n",
       "      <th>attention_max</th>\n",
       "      <th>attention_mean</th>\n",
       "      <th>attention_sum</th>\n",
       "      <th>keybert_default</th>\n",
       "      <th>keybert_mmr</th>\n",
       "      <th>keybert_maxsum</th>\n",
       "      <th>textrank</th>\n",
       "      <th>topicrank</th>\n",
       "      <th>positionrank</th>\n",
       "      <th>rake</th>\n",
       "      <th>yake</th>\n",
       "      <th>frake</th>\n",
       "    </tr>\n",
       "  </thead>\n",
       "  <tbody>\n",
       "    <tr>\n",
       "      <th>0</th>\n",
       "      <td>conversions</td>\n",
       "      <td>conversions</td>\n",
       "      <td>conversions</td>\n",
       "      <td>flavia</td>\n",
       "      <td>flavia</td>\n",
       "      <td>sleep</td>\n",
       "      <td>clients</td>\n",
       "      <td>problem</td>\n",
       "      <td>Marco</td>\n",
       "      <td>literally bottom line conversions big problem</td>\n",
       "      <td>Flavia totally</td>\n",
       "      <td>like problem conversions</td>\n",
       "    </tr>\n",
       "    <tr>\n",
       "      <th>1</th>\n",
       "      <td>sleep</td>\n",
       "      <td>marketing</td>\n",
       "      <td>marketing</td>\n",
       "      <td>marco</td>\n",
       "      <td>conversions</td>\n",
       "      <td>scribble</td>\n",
       "      <td>marketing intelligence</td>\n",
       "      <td>clients</td>\n",
       "      <td>underrating yesterdays day</td>\n",
       "      <td>totally underrating yesterdays day right</td>\n",
       "      <td>totally underrating</td>\n",
       "      <td>did know problem</td>\n",
       "    </tr>\n",
       "    <tr>\n",
       "      <th>2</th>\n",
       "      <td>market</td>\n",
       "      <td>war</td>\n",
       "      <td>war</td>\n",
       "      <td>nexoya</td>\n",
       "      <td>underrating</td>\n",
       "      <td>percent</td>\n",
       "      <td>Big risk</td>\n",
       "      <td>conversions</td>\n",
       "      <td>25 days</td>\n",
       "      <td>actually oa good track</td>\n",
       "      <td>underrating yesterdays</td>\n",
       "      <td>marco</td>\n",
       "    </tr>\n",
       "    <tr>\n",
       "      <th>3</th>\n",
       "      <td>pattern</td>\n",
       "      <td>lost</td>\n",
       "      <td>wrote</td>\n",
       "      <td>clients</td>\n",
       "      <td>marco</td>\n",
       "      <td>underrating</td>\n",
       "      <td>conversions</td>\n",
       "      <td>dashboard</td>\n",
       "      <td>conversions</td>\n",
       "      <td>sleep last three weeks</td>\n",
       "      <td>Sight</td>\n",
       "      <td>problem</td>\n",
       "    </tr>\n",
       "    <tr>\n",
       "      <th>4</th>\n",
       "      <td>wrote</td>\n",
       "      <td>showed</td>\n",
       "      <td>lost</td>\n",
       "      <td>marketing</td>\n",
       "      <td>totally</td>\n",
       "      <td>client</td>\n",
       "      <td>average client</td>\n",
       "      <td>ZKB</td>\n",
       "      <td>Big risk</td>\n",
       "      <td>last three weeks</td>\n",
       "      <td>problem</td>\n",
       "      <td>lost conversions</td>\n",
       "    </tr>\n",
       "  </tbody>\n",
       "</table>\n",
       "</div>"
      ],
      "text/plain": [
       "  attention_max attention_mean attention_sum keybert_default  keybert_mmr  \\\n",
       "0   conversions    conversions   conversions          flavia       flavia   \n",
       "1         sleep      marketing     marketing           marco  conversions   \n",
       "2        market            war           war          nexoya  underrating   \n",
       "3       pattern           lost         wrote         clients        marco   \n",
       "4         wrote         showed          lost       marketing      totally   \n",
       "\n",
       "  keybert_maxsum                textrank    topicrank  \\\n",
       "0          sleep                 clients      problem   \n",
       "1       scribble  marketing intelligence      clients   \n",
       "2        percent                Big risk  conversions   \n",
       "3    underrating             conversions    dashboard   \n",
       "4         client          average client          ZKB   \n",
       "\n",
       "                 positionrank                                           rake  \\\n",
       "0                       Marco  literally bottom line conversions big problem   \n",
       "1  underrating yesterdays day       totally underrating yesterdays day right   \n",
       "2                     25 days                         actually oa good track   \n",
       "3                 conversions                         sleep last three weeks   \n",
       "4                    Big risk                               last three weeks   \n",
       "\n",
       "                     yake                     frake  \n",
       "0          Flavia totally  like problem conversions  \n",
       "1     totally underrating          did know problem  \n",
       "2  underrating yesterdays                     marco  \n",
       "3                   Sight                   problem  \n",
       "4                 problem          lost conversions  "
      ]
     },
     "execution_count": 14,
     "metadata": {},
     "output_type": "execute_result"
    }
   ],
   "source": [
    "df = pd.DataFrame(kws)\n",
    "df\n",
    "# for col in df.columns:\n",
    "#     print(col)\n",
    "#     print(df[col].values)"
   ]
  }
 ],
 "metadata": {
  "interpreter": {
   "hash": "9d10268de14796ab72802f3d5204661607cb47f5caae6ef1d9733064b38c2714"
  },
  "kernelspec": {
   "display_name": "Python 3.7.6 ('locator_env': venv)",
   "language": "python",
   "name": "python3"
  },
  "language_info": {
   "codemirror_mode": {
    "name": "ipython",
    "version": 3
   },
   "file_extension": ".py",
   "mimetype": "text/x-python",
   "name": "python",
   "nbconvert_exporter": "python",
   "pygments_lexer": "ipython3",
   "version": "3.7.6"
  },
  "orig_nbformat": 4
 },
 "nbformat": 4,
 "nbformat_minor": 2
}
