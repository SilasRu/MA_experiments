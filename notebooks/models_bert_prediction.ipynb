{
 "cells": [
  {
   "cell_type": "code",
   "execution_count": 27,
   "metadata": {},
   "outputs": [],
   "source": [
    "import sys\n",
    "import os\n",
    "sys.path.insert(0, '/Users/silas.rudolf/projects/School/MA/experiments/models/keyphrase_gen')\n",
    "from keyphrase_generator import KeyphraseGenerator\n",
    "checkpoint_path = '/Users/silas.rudolf/projects/School/MA/experiments/data/checkpoints'\n",
    "\n",
    "generator_cnn_14000 = KeyphraseGenerator(os.path.join(checkpoint_path, 'checkpoint-CNN-keyphrase-14000'))\n",
    "generator_cnn_14000 = KeyphraseGenerator(os.path.join(checkpoint_path, 'checkpoint-CNN-keyphrase-35000'))\n",
    "generator_xsum_14000 = KeyphraseGenerator(os.path.join(checkpoint_path, 'checkpoint-keyphrase-10000'))\n",
    "generator_xsum_14000 = KeyphraseGenerator(os.path.join(checkpoint_path, 'checkpoint-keyphrase-32000'))"
   ]
  },
  {
   "cell_type": "code",
   "execution_count": 29,
   "metadata": {},
   "outputs": [],
   "source": [
    "transcript_path = '/Users/silas.rudolf/projects/School/MA/experiments/data/nexoya daily standup 2022-03-17.json'\n",
    "chunks = generator_cnn_14000.preprocess_and_chunk_transcript(transcript_path)"
   ]
  },
  {
   "cell_type": "code",
   "execution_count": 30,
   "metadata": {},
   "outputs": [
    {
     "name": "stderr",
     "output_type": "stream",
     "text": [
      "Truncation was not explicitly activated but `max_length` is provided a specific value, please use `truncation=True` to explicitly truncate examples to max length. Defaulting to 'longest_first' truncation strategy. If you encode pairs of sequences (GLUE-style) with the tokenizer you can select this strategy more precisely by providing a specific strategy to `truncation`.\n"
     ]
    },
    {
     "data": {
      "text/plain": [
       "[['Ivan started working on the implementation of the gauge icon yesterday and has some shipments to ship today. He will shortly share the link in development channel to introduce Marco and Flavia to the project.'],\n",
       " ['Djuradj will continue with the campaign export today. Silas is done with the ordering of the content yesterday.'],\n",
       " ['Philipp, Silas and Luca had the interview with the Italian guy yesterday. Philipp moved the backlog. Luca finished the adjustment for Generali. Philipp can do the impression-share calculation with real spent instead of percentages.'],\n",
       " ['re-planning, preparation and all the discussions they had afterwards. Flavia: There were a lot of customer meetings yesterday. Marco:   '],\n",
       " ['Customer success site'],\n",
       " ['The average client is losing 41 percent in the last 25 days. Assura wrote to me on chat afterwards. He loved the dashboard. '],\n",
       " [\"The trend of using handmade SQL queries in marketing intelligence is interesting. Health and gaming are not affected. Flavia said it's an absolute Masterpiece how they like it and how they loved it. \"],\n",
       " [\"Swisscom.com. They have reached an agreement with GoWago, which will sign up today. Government's topics process topics are on the agenda. The decision on the full convertible might be taken next week. They will take investment only in Fall.\"],\n",
       " [' Marco, Philipp and Flavia are going to sell their shares in Less shares for 18 to 20 valuat. This will lower the dilution and increase the valuation. Silas saw the information from Flavia and Silas and is happy with it. Flavia is also happy with the updates she got from customers.'],\n",
       " ['Silas, Marco and Philip finished the standup and recording.']]"
      ]
     },
     "execution_count": 30,
     "metadata": {},
     "output_type": "execute_result"
    }
   ],
   "source": [
    "generator_cnn_14000.extract_keyphrases(chunks)"
   ]
  },
  {
   "cell_type": "code",
   "execution_count": null,
   "metadata": {},
   "outputs": [],
   "source": []
  }
 ],
 "metadata": {
  "kernelspec": {
   "display_name": "locator_env",
   "language": "python",
   "name": "locator_env"
  },
  "language_info": {
   "codemirror_mode": {
    "name": "ipython",
    "version": 3
   },
   "file_extension": ".py",
   "mimetype": "text/x-python",
   "name": "python",
   "nbconvert_exporter": "python",
   "pygments_lexer": "ipython3",
   "version": "3.7.6"
  },
  "orig_nbformat": 4,
  "vscode": {
   "interpreter": {
    "hash": "1ee38ef4a5a9feb55287fd749643f13d043cb0a7addaab2a9c224cbe137c0062"
   }
  }
 },
 "nbformat": 4,
 "nbformat_minor": 2
}
