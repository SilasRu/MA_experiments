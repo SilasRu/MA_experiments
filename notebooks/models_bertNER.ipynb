{
 "cells": [
  {
   "cell_type": "code",
   "execution_count": 2,
   "metadata": {},
   "outputs": [],
   "source": [
    "import json\n",
    "with open('/Users/silas.rudolf/projects/School/MA/experiments/data/nexoya daily standup 2022-03-17.json', 'r') as f:\n",
    "    transcript = json.load(f)"
   ]
  },
  {
   "cell_type": "code",
   "execution_count": 3,
   "metadata": {},
   "outputs": [],
   "source": [
    "speaker_frames = transcript['transcript']['content'][0]['content']"
   ]
  },
  {
   "cell_type": "code",
   "execution_count": 4,
   "metadata": {},
   "outputs": [
    {
     "data": {
      "text/plain": [
       "\" Okay. It's now being recorded. So then let's get started  and start with Ivan.  \""
      ]
     },
     "execution_count": 4,
     "metadata": {},
     "output_type": "execute_result"
    }
   ],
   "source": [
    "''.join([i['content'][0]['text'] for i in speaker_frames[0]['content']])"
   ]
  },
  {
   "cell_type": "code",
   "execution_count": 5,
   "metadata": {},
   "outputs": [],
   "source": [
    "t = []\n",
    "for x in range(len(speaker_frames)):\n",
    "    t.append(''.join([i['content'][0]['text'] for i in speaker_frames[x]['content']]))"
   ]
  },
  {
   "cell_type": "code",
   "execution_count": 8,
   "metadata": {},
   "outputs": [
    {
     "name": "stderr",
     "output_type": "stream",
     "text": [
      "/Users/silas.rudolf/projects/School/MA/experiments/notebooks/locator_env/lib/python3.7/site-packages/tqdm/auto.py:22: TqdmWarning: IProgress not found. Please update jupyter and ipywidgets. See https://ipywidgets.readthedocs.io/en/stable/user_install.html\n",
      "  from .autonotebook import tqdm as notebook_tqdm\n",
      "No model was supplied, defaulted to dbmdz/bert-large-cased-finetuned-conll03-english (https://huggingface.co/dbmdz/bert-large-cased-finetuned-conll03-english)\n",
      "Downloading: 100%|██████████| 998/998 [00:00<00:00, 260kB/s]\n",
      "Downloading: 100%|██████████| 1.24G/1.24G [01:32<00:00, 14.5MB/s]\n",
      "Downloading: 100%|██████████| 60.0/60.0 [00:00<00:00, 44.3kB/s]\n",
      "Downloading: 100%|██████████| 208k/208k [00:00<00:00, 504kB/s] \n"
     ]
    },
    {
     "data": {
      "text/plain": [
       "[{'entity_group': 'PER',\n",
       "  'score': 0.9815732,\n",
       "  'word': 'Ivan',\n",
       "  'start': 74,\n",
       "  'end': 78},\n",
       " {'entity_group': 'PER',\n",
       "  'score': 0.98623484,\n",
       "  'word': 'Philip',\n",
       "  'start': 276,\n",
       "  'end': 282},\n",
       " {'entity_group': 'PER',\n",
       "  'score': 0.9831891,\n",
       "  'word': 'Marco',\n",
       "  'start': 345,\n",
       "  'end': 350},\n",
       " {'entity_group': 'ORG',\n",
       "  'score': 0.70558333,\n",
       "  'word': 'Flav',\n",
       "  'start': 359,\n",
       "  'end': 363},\n",
       " {'entity_group': 'PER',\n",
       "  'score': 0.74192584,\n",
       "  'word': '##ia',\n",
       "  'start': 363,\n",
       "  'end': 365},\n",
       " {'entity_group': 'PER',\n",
       "  'score': 0.98618454,\n",
       "  'word': 'Marco',\n",
       "  'start': 743,\n",
       "  'end': 748},\n",
       " {'entity_group': 'ORG',\n",
       "  'score': 0.51433134,\n",
       "  'word': 'Flav',\n",
       "  'start': 753,\n",
       "  'end': 757},\n",
       " {'entity_group': 'PER',\n",
       "  'score': 0.85171306,\n",
       "  'word': '##ia',\n",
       "  'start': 757,\n",
       "  'end': 759},\n",
       " {'entity_group': 'ORG',\n",
       "  'score': 0.5811675,\n",
       "  'word': 'Git',\n",
       "  'start': 763,\n",
       "  'end': 766},\n",
       " {'entity_group': 'ORG',\n",
       "  'score': 0.70786214,\n",
       "  'word': '##b',\n",
       "  'start': 768,\n",
       "  'end': 769},\n",
       " {'entity_group': 'PER',\n",
       "  'score': 0.9835934,\n",
       "  'word': 'Ivan',\n",
       "  'start': 820,\n",
       "  'end': 824},\n",
       " {'entity_group': 'PER',\n",
       "  'score': 0.8581844,\n",
       "  'word': 'Dju',\n",
       "  'start': 954,\n",
       "  'end': 957},\n",
       " {'entity_group': 'ORG',\n",
       "  'score': 0.50251645,\n",
       "  'word': '##j',\n",
       "  'start': 960,\n",
       "  'end': 961},\n",
       " {'entity_group': 'ORG',\n",
       "  'score': 0.9438962,\n",
       "  'word': 'LinkedIn',\n",
       "  'start': 1071,\n",
       "  'end': 1079},\n",
       " {'entity_group': 'MISC',\n",
       "  'score': 0.8901844,\n",
       "  'word': 'LinkedIn API',\n",
       "  'start': 1400,\n",
       "  'end': 1412},\n",
       " {'entity_group': 'PER',\n",
       "  'score': 0.965968,\n",
       "  'word': 'Silas',\n",
       "  'start': 1600,\n",
       "  'end': 1605},\n",
       " {'entity_group': 'PER',\n",
       "  'score': 0.9677778,\n",
       "  'word': 'Phillip',\n",
       "  'start': 1870,\n",
       "  'end': 1877},\n",
       " {'entity_group': 'PER',\n",
       "  'score': 0.9712218,\n",
       "  'word': 'Luca',\n",
       "  'start': 2072,\n",
       "  'end': 2076},\n",
       " {'entity_group': 'MISC',\n",
       "  'score': 0.99458474,\n",
       "  'word': 'Italian',\n",
       "  'start': 2139,\n",
       "  'end': 2146},\n",
       " {'entity_group': 'PER',\n",
       "  'score': 0.94456536,\n",
       "  'word': 'Armando Alfredo Alfredo',\n",
       "  'start': 2151,\n",
       "  'end': 2176}]"
      ]
     },
     "execution_count": 8,
     "metadata": {},
     "output_type": "execute_result"
    }
   ],
   "source": [
    "from transformers import pipeline\n",
    "ner = pipeline(\"ner\", aggregation_strategy='simple')\n",
    "output = ner(''.join(t))\n",
    "output\n"
   ]
  }
 ],
 "metadata": {
  "interpreter": {
   "hash": "9d10268de14796ab72802f3d5204661607cb47f5caae6ef1d9733064b38c2714"
  },
  "kernelspec": {
   "display_name": "Python 3.7.6 ('locator_env': venv)",
   "language": "python",
   "name": "python3"
  },
  "language_info": {
   "codemirror_mode": {
    "name": "ipython",
    "version": 3
   },
   "file_extension": ".py",
   "mimetype": "text/x-python",
   "name": "python",
   "nbconvert_exporter": "python",
   "pygments_lexer": "ipython3",
   "version": "3.7.6"
  },
  "orig_nbformat": 4
 },
 "nbformat": 4,
 "nbformat_minor": 2
}
