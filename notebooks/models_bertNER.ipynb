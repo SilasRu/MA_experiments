{
 "cells": [
  {
   "cell_type": "code",
   "execution_count": 1,
   "metadata": {},
   "outputs": [
    {
     "name": "stderr",
     "output_type": "stream",
     "text": [
      "2022-06-27 14:08:55 INFO     'pattern' package not found; tag filters are not available for English\n",
      "[nltk_data] Downloading package stopwords to\n",
      "[nltk_data]     /Users/silas.rudolf/nltk_data...\n",
      "[nltk_data]   Package stopwords is already up-to-date!\n"
     ]
    }
   ],
   "source": [
    "import sys\n",
    "import os\n",
    "sys.path.insert(0, '/Users/silas.rudolf/projects/School/MA/experiments/models/keyword_gen')\n",
    "from keyword_generator import KeywordGenerator"
   ]
  },
  {
   "cell_type": "code",
   "execution_count": 2,
   "metadata": {},
   "outputs": [],
   "source": [
    "kwg = KeywordGenerator()"
   ]
  },
  {
   "cell_type": "code",
   "execution_count": 16,
   "metadata": {},
   "outputs": [
    {
     "data": {
      "text/plain": [
       "'marco nexoya clara iway assura flavia klara'"
      ]
     },
     "execution_count": 16,
     "metadata": {},
     "output_type": "execute_result"
    }
   ],
   "source": [
    "utterance = '''Marco: From My Sight,  I think Flavia's  totally underrating yesterdays day  right?  It was absolutely astonishing how scribble  was  like, excited  about what we showed them  crazy gave you showed  their problem, is they lost  conversions. in t last three weeks.  They didn't know why they assumed its Nexoya maybe even,  they lost like, 21% of conversions,  like, literally bottom line conversions big problem for them.  \n",
    "Big risk  and we made an analysis over all our clients and show that the average client is loosing 41 percent in the last  25 days  because of the  crockpot potentially because of the war situation, and  they are actually oa good track,  his quote was, I can now sleep again nicely  because I couldn't sleep last three weeks because this problem, I didn't know what's the problem. \n",
    "And I thought, maybe it's even Nexoya.  So the marketing intelligence, which we showed him  was priceless for him.  Like it felt like  he didn't really want to look at the optimization. He was like, yeah. All fine.  We'll just apply it.  Right,  so he was super, super happy. And  we also showed in the morning Assura, where the director client director, even wrote me on chat afterwards. Hey amazing, insights thanks a lo. We will  look at other clients and  same. I think also on Iway. He loved the dashboard. I don't know if he loved the Market insights but he loved the dashboards,  and we now look forward in ZKB, Clara. We  look at every customer,  Klara has it  ZKB has it  same pattern, same problem.  If you wlook at it. Look at the \n",
    "dashboard  scroll at the bottom you see in marketing intelligence  field.\n",
    "'''\n",
    "\n",
    "entities = kwg._get_entities(utterance, False)\n",
    "' '.join([i for i in list(entities) if len(i) > 3 and not '#' in i])"
   ]
  },
  {
   "cell_type": "code",
   "execution_count": null,
   "metadata": {},
   "outputs": [],
   "source": []
  },
  {
   "cell_type": "code",
   "execution_count": null,
   "metadata": {},
   "outputs": [],
   "source": []
  }
 ],
 "metadata": {
  "interpreter": {
   "hash": "9d10268de14796ab72802f3d5204661607cb47f5caae6ef1d9733064b38c2714"
  },
  "kernelspec": {
   "display_name": "Python 3.7.6 ('locator_env': venv)",
   "language": "python",
   "name": "python3"
  },
  "language_info": {
   "codemirror_mode": {
    "name": "ipython",
    "version": 3
   },
   "file_extension": ".py",
   "mimetype": "text/x-python",
   "name": "python",
   "nbconvert_exporter": "python",
   "pygments_lexer": "ipython3",
   "version": "3.7.6"
  },
  "orig_nbformat": 4
 },
 "nbformat": 4,
 "nbformat_minor": 2
}
