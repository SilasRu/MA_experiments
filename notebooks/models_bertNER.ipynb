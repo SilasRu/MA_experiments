{
 "cells": [
  {
   "cell_type": "code",
   "execution_count": 1,
   "metadata": {},
   "outputs": [
    {
     "name": "stderr",
     "output_type": "stream",
     "text": [
      "2022-06-29 08:34:20 INFO     'pattern' package not found; tag filters are not available for English\n",
      "[nltk_data] Downloading package stopwords to\n",
      "[nltk_data]     /Users/silas.rudolf/nltk_data...\n",
      "[nltk_data]   Package stopwords is already up-to-date!\n"
     ]
    }
   ],
   "source": [
    "import sys\n",
    "import os\n",
    "sys.path.insert(0, '/Users/silas.rudolf/projects/School/MA/experiments/models/keyword_gen')\n",
    "from keyword_generator import KeywordGenerator"
   ]
  },
  {
   "cell_type": "code",
   "execution_count": 2,
   "metadata": {},
   "outputs": [],
   "source": [
    "kwg = KeywordGenerator()"
   ]
  },
  {
   "cell_type": "code",
   "execution_count": 16,
   "metadata": {},
   "outputs": [
    {
     "data": {
      "text/plain": [
       "'marco nexoya clara iway assura flavia klara'"
      ]
     },
     "execution_count": 16,
     "metadata": {},
     "output_type": "execute_result"
    }
   ],
   "source": [
    "utterance = '''Marco: From My Sight,  I think Flavia's  totally underrating yesterdays day  right?  It was absolutely astonishing how scribble  was  like, excited  about what we showed them  crazy gave you showed  their problem, is they lost  conversions. in t last three weeks.  They didn't know why they assumed its Nexoya maybe even,  they lost like, 21% of conversions,  like, literally bottom line conversions big problem for them.  \n",
    "Big risk  and we made an analysis over all our clients and show that the average client is loosing 41 percent in the last  25 days  because of the  crockpot potentially because of the war situation, and  they are actually oa good track,  his quote was, I can now sleep again nicely  because I couldn't sleep last three weeks because this problem, I didn't know what's the problem. \n",
    "And I thought, maybe it's even Nexoya.  So the marketing intelligence, which we showed him  was priceless for him.  Like it felt like  he didn't really want to look at the optimization. He was like, yeah. All fine.  We'll just apply it.  Right,  so he was super, super happy. And  we also showed in the morning Assura, where the director client director, even wrote me on chat afterwards. Hey amazing, insights thanks a lo. We will  look at other clients and  same. I think also on Iway. He loved the dashboard. I don't know if he loved the Market insights but he loved the dashboards,  and we now look forward in ZKB, Clara. We  look at every customer,  Klara has it  ZKB has it  same pattern, same problem.  If you wlook at it. Look at the \n",
    "dashboard  scroll at the bottom you see in marketing intelligence  field.\n",
    "'''\n",
    "\n",
    "entities = kwg._get_entities(utterance, False)\n",
    "' '.join([i for i in list(entities) if len(i) > 3 and not '#' in i])"
   ]
  },
  {
   "cell_type": "code",
   "execution_count": 11,
   "metadata": {},
   "outputs": [
    {
     "name": "stderr",
     "output_type": "stream",
     "text": [
      "No model was supplied, defaulted to dbmdz/bert-large-cased-finetuned-conll03-english (https://huggingface.co/dbmdz/bert-large-cased-finetuned-conll03-english)\n"
     ]
    }
   ],
   "source": [
    "from transformers import pipeline\n",
    "utterance = '''Marco: From My Sight, I think Microsoft totally underrating yesterdays day  right?  It was absolutely astonishing how scribble  was  like, excited  about what we showed them  crazy gave you showed  their problem, is they lost  conversions. in t last three weeks.  They didn't know why they assumed its Nexoya maybe even,  they lost like, 21% of conversions,  like, literally bottom line conversions big problem for them.  \n",
    "Big risk  and we made an analysis over all our clients and show that the average client is loosing 41 percent in the last  25 days  because of the  crockpot potentially because of the war situation, and  they are actually oa good track,  his quote was, I can now sleep again nicely  because I couldn't sleep last three weeks because this problem, I didn't know what's the problem. \n",
    "And I thought, maybe it's even Nexoya.  So the marketing intelligence, which we showed him  was priceless for him.  Like it felt like  he didn't really want to look at the optimization. He was like, yeah. All fine.  We'll just apply it.  Right,  so he was super, super happy. And  we also showed in the morning Assura, where the director client director, even wrote me on chat afterwards. Hey amazing, insights thanks a lo. We will  look at other clients and  same. I think also on Iway. He loved the dashboard. I don't know if he loved the Market insights but he loved the dashboards,  and we now look forward in ZKB, Clara. We  look at every customer,  Klara has it  ZKB has it  same pattern, same problem.  If you wlook at it. Look at the \n",
    "dashboard  scroll at the bottom you see in marketing intelligence  field.\n",
    "'''\n",
    "ner = pipeline(\"ner\", aggregation_strategy='average')\n",
    "entities = ner(utterance)"
   ]
  },
  {
   "cell_type": "code",
   "execution_count": 12,
   "metadata": {},
   "outputs": [
    {
     "data": {
      "text/plain": [
       "[{'entity_group': 'PER',\n",
       "  'score': 0.9937663,\n",
       "  'word': 'Marco',\n",
       "  'start': 0,\n",
       "  'end': 5},\n",
       " {'entity_group': 'ORG',\n",
       "  'score': 0.9994417,\n",
       "  'word': 'Microsoft',\n",
       "  'start': 30,\n",
       "  'end': 39},\n",
       " {'entity_group': 'ORG',\n",
       "  'score': 0.9227047,\n",
       "  'word': 'Nexoya',\n",
       "  'start': 302,\n",
       "  'end': 308},\n",
       " {'entity_group': 'ORG',\n",
       "  'score': 0.9292404,\n",
       "  'word': 'Nexoya',\n",
       "  'start': 836,\n",
       "  'end': 842},\n",
       " {'entity_group': 'ORG',\n",
       "  'score': 0.9608268,\n",
       "  'word': 'Assura',\n",
       "  'start': 1116,\n",
       "  'end': 1122},\n",
       " {'entity_group': 'ORG',\n",
       "  'score': 0.94419277,\n",
       "  'word': 'Iway',\n",
       "  'start': 1287,\n",
       "  'end': 1291},\n",
       " {'entity_group': 'ORG',\n",
       "  'score': 0.95807606,\n",
       "  'word': 'ZKB',\n",
       "  'start': 1419,\n",
       "  'end': 1422},\n",
       " {'entity_group': 'PER',\n",
       "  'score': 0.80487627,\n",
       "  'word': 'Clara',\n",
       "  'start': 1424,\n",
       "  'end': 1429},\n",
       " {'entity_group': 'ORG',\n",
       "  'score': 0.6116998,\n",
       "  'word': 'Klara',\n",
       "  'start': 1460,\n",
       "  'end': 1465},\n",
       " {'entity_group': 'ORG',\n",
       "  'score': 0.9584072,\n",
       "  'word': 'ZKB',\n",
       "  'start': 1474,\n",
       "  'end': 1477}]"
      ]
     },
     "execution_count": 12,
     "metadata": {},
     "output_type": "execute_result"
    }
   ],
   "source": [
    "entities"
   ]
  },
  {
   "cell_type": "code",
   "execution_count": 11,
   "metadata": {},
   "outputs": [],
   "source": [
    "test = ''.join([word.lower() for word in utterance])"
   ]
  },
  {
   "cell_type": "code",
   "execution_count": 14,
   "metadata": {},
   "outputs": [
    {
     "data": {
      "text/plain": [
       "[{'entity_group': 'PER',\n",
       "  'score': 0.99044496,\n",
       "  'word': 'Marco',\n",
       "  'start': 0,\n",
       "  'end': 5},\n",
       " {'entity_group': 'ORG',\n",
       "  'score': 0.98248535,\n",
       "  'word': 'Flavia',\n",
       "  'start': 31,\n",
       "  'end': 37},\n",
       " {'entity_group': 'ORG',\n",
       "  'score': 0.973743,\n",
       "  'word': 'Nexoya',\n",
       "  'start': 303,\n",
       "  'end': 309},\n",
       " {'entity_group': 'ORG',\n",
       "  'score': 0.9680054,\n",
       "  'word': 'Nexoya',\n",
       "  'start': 837,\n",
       "  'end': 843},\n",
       " {'entity_group': 'ORG',\n",
       "  'score': 0.9766006,\n",
       "  'word': 'Assura',\n",
       "  'start': 1117,\n",
       "  'end': 1123},\n",
       " {'entity_group': 'ORG',\n",
       "  'score': 0.9454316,\n",
       "  'word': 'Iway',\n",
       "  'start': 1288,\n",
       "  'end': 1292},\n",
       " {'entity_group': 'ORG',\n",
       "  'score': 0.98008114,\n",
       "  'word': 'ZKB',\n",
       "  'start': 1420,\n",
       "  'end': 1423},\n",
       " {'entity_group': 'PER',\n",
       "  'score': 0.50891745,\n",
       "  'word': 'Clara',\n",
       "  'start': 1425,\n",
       "  'end': 1430},\n",
       " {'entity_group': 'ORG',\n",
       "  'score': 0.72702664,\n",
       "  'word': 'Klara',\n",
       "  'start': 1461,\n",
       "  'end': 1466},\n",
       " {'entity_group': 'ORG',\n",
       "  'score': 0.9700025,\n",
       "  'word': 'ZKB',\n",
       "  'start': 1475,\n",
       "  'end': 1478}]"
      ]
     },
     "execution_count": 14,
     "metadata": {},
     "output_type": "execute_result"
    }
   ],
   "source": [
    "ner(utterance)"
   ]
  },
  {
   "cell_type": "code",
   "execution_count": null,
   "metadata": {},
   "outputs": [],
   "source": []
  }
 ],
 "metadata": {
  "interpreter": {
   "hash": "9d10268de14796ab72802f3d5204661607cb47f5caae6ef1d9733064b38c2714"
  },
  "kernelspec": {
   "display_name": "Python 3.7.6 ('locator_env': venv)",
   "language": "python",
   "name": "python3"
  },
  "language_info": {
   "codemirror_mode": {
    "name": "ipython",
    "version": 3
   },
   "file_extension": ".py",
   "mimetype": "text/x-python",
   "name": "python",
   "nbconvert_exporter": "python",
   "pygments_lexer": "ipython3",
   "version": "3.7.6"
  },
  "orig_nbformat": 4
 },
 "nbformat": 4,
 "nbformat_minor": 2
}
